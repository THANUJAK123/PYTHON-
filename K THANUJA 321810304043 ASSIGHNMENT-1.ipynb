{
 "cells": [
  {
   "cell_type": "markdown",
   "metadata": {},
   "source": [
    "### 1:simple calculations"
   ]
  },
  {
   "cell_type": "code",
   "execution_count": 70,
   "metadata": {},
   "outputs": [
    {
     "name": "stdout",
     "output_type": "stream",
     "text": [
      "30\n"
     ]
    }
   ],
   "source": [
    "x,y=10,20\n",
    "z=x+y\n",
    "print(z)"
   ]
  },
  {
   "cell_type": "code",
   "execution_count": 4,
   "metadata": {},
   "outputs": [
    {
     "name": "stdout",
     "output_type": "stream",
     "text": [
      "-10\n"
     ]
    }
   ],
   "source": [
    "x,y=40,50\n",
    "z=x-y\n",
    "print(z)"
   ]
  },
  {
   "cell_type": "code",
   "execution_count": 5,
   "metadata": {},
   "outputs": [
    {
     "name": "stdout",
     "output_type": "stream",
     "text": [
      "600\n"
     ]
    }
   ],
   "source": [
    "x,y=30,20\n",
    "z=x*y\n",
    "print(z)"
   ]
  },
  {
   "cell_type": "code",
   "execution_count": 6,
   "metadata": {},
   "outputs": [
    {
     "name": "stdout",
     "output_type": "stream",
     "text": [
      "10.0\n",
      "10\n"
     ]
    }
   ],
   "source": [
    "x,y=50,5\n",
    "z=x/y\n",
    "k,r=50,5\n",
    "t=k//r\n",
    "print(z)\n",
    "print(t)"
   ]
  },
  {
   "cell_type": "code",
   "execution_count": 19,
   "metadata": {},
   "outputs": [
    {
     "name": "stdout",
     "output_type": "stream",
     "text": [
      "0\n"
     ]
    }
   ],
   "source": [
    "x,y=60,20\n",
    "z=x%y\n",
    "print(z)"
   ]
  },
  {
   "cell_type": "code",
   "execution_count": 9,
   "metadata": {},
   "outputs": [
    {
     "name": "stdout",
     "output_type": "stream",
     "text": [
      "32\n"
     ]
    }
   ],
   "source": [
    "x=2**3*4\n",
    "print(x)"
   ]
  },
  {
   "cell_type": "code",
   "execution_count": 14,
   "metadata": {},
   "outputs": [
    {
     "name": "stdout",
     "output_type": "stream",
     "text": [
      "18\n"
     ]
    }
   ],
   "source": [
    "print(56//3)"
   ]
  },
  {
   "cell_type": "markdown",
   "metadata": {},
   "source": [
    "### 2:simple interest"
   ]
  },
  {
   "cell_type": "code",
   "execution_count": 67,
   "metadata": {},
   "outputs": [
    {
     "name": "stdout",
     "output_type": "stream",
     "text": [
      "principle is:12\n",
      "rate is:0.6\n",
      "time is:2\n",
      "simple interest is 0.144\n"
     ]
    }
   ],
   "source": [
    "\n",
    "P=int(input(\"principle is:\"))\n",
    "r=float(input(\"rate is:\"))\n",
    "t=int(input(\"time is:\"))\n",
    "si=(P*t*r)/100\n",
    "print(\"simple interest is\",si)"
   ]
  },
  {
   "cell_type": "markdown",
   "metadata": {},
   "source": [
    "### 3:area of circle"
   ]
  },
  {
   "cell_type": "code",
   "execution_count": 68,
   "metadata": {},
   "outputs": [
    {
     "name": "stdout",
     "output_type": "stream",
     "text": [
      "radius is5\n",
      "area of the circle 78.55\n"
     ]
    }
   ],
   "source": [
    "r=int(input(\"radius is\"))\n",
    "pi=3.142\n",
    "A=pi*r*r\n",
    "print(\"area of the circle\",A)"
   ]
  },
  {
   "cell_type": "markdown",
   "metadata": {},
   "source": [
    "### 4:area of triangle"
   ]
  },
  {
   "cell_type": "code",
   "execution_count": 71,
   "metadata": {},
   "outputs": [
    {
     "name": "stdout",
     "output_type": "stream",
     "text": [
      "breadth is6\n",
      "height is8\n",
      "area of triangle 24.0\n"
     ]
    }
   ],
   "source": [
    "b=int(input(\"breadth is\"))\n",
    "h=int(input(\"height is\"))\n",
    "A=0.5*b*h\n",
    "print(\"area of triangle\",A)"
   ]
  },
  {
   "cell_type": "markdown",
   "metadata": {},
   "source": [
    "### 5:area of rectangle"
   ]
  },
  {
   "cell_type": "code",
   "execution_count": 72,
   "metadata": {},
   "outputs": [
    {
     "name": "stdout",
     "output_type": "stream",
     "text": [
      "length is:5\n",
      "breadth is:9\n",
      "Area of rectangle 45\n"
     ]
    }
   ],
   "source": [
    "l=int(input(\"length is:\"))\n",
    "b=int(input(\"breadth is:\"))\n",
    "A=l*b\n",
    "print(\"Area of rectangle\",A)"
   ]
  },
  {
   "cell_type": "markdown",
   "metadata": {},
   "source": [
    "### 6:perimeter of square"
   ]
  },
  {
   "cell_type": "code",
   "execution_count": 73,
   "metadata": {},
   "outputs": [
    {
     "name": "stdout",
     "output_type": "stream",
     "text": [
      "side of the square:6\n",
      "perimeterof square is 24\n"
     ]
    }
   ],
   "source": [
    "a=int(input(\"side of the square:\"))\n",
    "p=4*a\n",
    "print(\"perimeterof square is\",p)"
   ]
  },
  {
   "cell_type": "markdown",
   "metadata": {},
   "source": [
    "### 7:circumference of a circle"
   ]
  },
  {
   "cell_type": "code",
   "execution_count": 74,
   "metadata": {},
   "outputs": [
    {
     "name": "stdout",
     "output_type": "stream",
     "text": [
      "radius of the circle:7\n",
      "circumferenceof a circle is: 43.988\n"
     ]
    }
   ],
   "source": [
    "r=float(input(\"radius of the circle:\"))\n",
    "pi=3.142  \n",
    "C=2*pi*r\n",
    "print(\"circumferenceof a circle is:\",C)            "
   ]
  },
  {
   "cell_type": "markdown",
   "metadata": {},
   "source": [
    "### 8:swapping of two numbers"
   ]
  },
  {
   "cell_type": "code",
   "execution_count": 63,
   "metadata": {},
   "outputs": [
    {
     "name": "stdout",
     "output_type": "stream",
     "text": [
      "enter the value of x:10\n",
      "enter the value of y:20\n",
      "value of x before swapping: 10\n",
      "value of y before swapping: 20\n",
      "value of x after swapping: 20\n",
      "value of y after swapping: 10\n"
     ]
    }
   ],
   "source": [
    "x=input(\"enter the value of x:\")\n",
    "y=input(\"enter the value of y:\")\n",
    "print(\"value of x before swapping:\",x)\n",
    "print(\"value of y before swapping:\",y)        \n",
    "temp=x\n",
    "x=y\n",
    "y=temp\n",
    "print(\"value of x after swapping:\",x)\n",
    "print(\"value of y after swapping:\",y)   "
   ]
  },
  {
   "cell_type": "markdown",
   "metadata": {},
   "source": [
    "### 9: temparature in celsius to farenheit"
   ]
  },
  {
   "cell_type": "code",
   "execution_count": 65,
   "metadata": {},
   "outputs": [
    {
     "name": "stdout",
     "output_type": "stream",
     "text": [
      "temparature in centigrade:100\n",
      "temparature in fahrenheit: 212.0\n"
     ]
    }
   ],
   "source": [
    "c=float(input(\"temparature in centigrade:\"))\n",
    "f=(1.8*c)+32\n",
    "print(\"temparature in fahrenheit:\",f)"
   ]
  },
  {
   "cell_type": "code",
   "execution_count": null,
   "metadata": {},
   "outputs": [],
   "source": []
  }
 ],
 "metadata": {
  "kernelspec": {
   "display_name": "Python 3",
   "language": "python",
   "name": "python3"
  },
  "language_info": {
   "codemirror_mode": {
    "name": "ipython",
    "version": 3
   },
   "file_extension": ".py",
   "mimetype": "text/x-python",
   "name": "python",
   "nbconvert_exporter": "python",
   "pygments_lexer": "ipython3",
   "version": "3.7.6"
  }
 },
 "nbformat": 4,
 "nbformat_minor": 4
}
